{
 "cells": [
  {
   "cell_type": "code",
   "execution_count": 1,
   "metadata": {},
   "outputs": [],
   "source": [
    "import numpy as np\n",
    "import matplotlib\n",
    "import cv2"
   ]
  },
  {
   "cell_type": "code",
   "execution_count": 17,
   "metadata": {},
   "outputs": [],
   "source": [
    "def display_image(window_name, img):\n",
    "    \"\"\"\n",
    "    Displays image with given window name.\n",
    "    :param window_name: name of the window\n",
    "    :param img: image object to display\n",
    "    \"\"\"\n",
    "    cv2.imshow(window_name, img.astype(np.uint8))\n",
    "    cv2.waitKey(0)\n",
    "    # cv2.destroyAllWindows()\n",
    "\n",
    "def draw_landmarks(window_name, img, landmarks):\n",
    "    img_ = np.copy(img)\n",
    "    for landmark in landmarks:\n",
    "        cv2.circle(img_, (int(landmark[0]), int(landmark[1])), 2, (0, 255, 0), 2)\n",
    "    display_image(window_name, img_)"
   ]
  },
  {
   "cell_type": "code",
   "execution_count": 3,
   "metadata": {},
   "outputs": [],
   "source": [
    "def l2_distance_transform_1D(edge_vector, positive_inf = np.inf, negative_inf = -np.inf):\n",
    "    l = len(edge_vector)\n",
    "    k = 0\n",
    "\n",
    "    v = np.zeros(l, np.int32)\n",
    "\n",
    "    z = np.empty(l + 1)\n",
    "    z[0] = negative_inf\n",
    "    z[1] = positive_inf\n",
    "\n",
    "    dist_tf = np.zeros(l)\n",
    "\n",
    "    q = 1\n",
    "    while q < l:\n",
    "        s = ((edge_vector[q] + q ** 2) - (edge_vector[v[k]] + v[k] ** 2)) / (2 * (q - v[k]))\n",
    "        if s <= z[k]:\n",
    "            k = k - 1\n",
    "            continue\n",
    "        else:\n",
    "            k = k + 1\n",
    "            v[k] = q\n",
    "            z[k] = s\n",
    "            z[k + 1] = positive_inf\n",
    "            q = q + 1\n",
    "    k = 0\n",
    "    for q in range(l):\n",
    "        while z[k + 1] < q:\n",
    "            k = k + 1\n",
    "        dist_tf[q] = (q - v[k]) ** 2 + edge_vector[v[k]]\n",
    "\n",
    "    return dist_tf\n",
    "\n",
    "\n",
    "def l2_distance_transform_2D(edge_function):\n",
    "    dist_column_wise = np.zeros_like(edge_function, np.uint32)\n",
    "    for col in range(edge_function.shape[1]):\n",
    "        dist_column_wise[:, col] = l2_distance_transform_1D(edge_function[:, col])\n",
    "    \n",
    "    l2_dist_tf = np.zeros_like(edge_function, np.uint32)\n",
    "    for row in range(edge_function.shape[0]):\n",
    "        l2_dist_tf[row] = l2_distance_transform_1D(dist_column_wise[row])\n",
    "\n",
    "    l2_dist_tf = l2_dist_tf * 255 / np.max(l2_dist_tf)\n",
    "    return l2_dist_tf"
   ]
  },
  {
   "cell_type": "code",
   "execution_count": 4,
   "metadata": {},
   "outputs": [],
   "source": [
    "img = cv2.imread(\"data/hand.jpg\")"
   ]
  },
  {
   "cell_type": "code",
   "execution_count": 5,
   "metadata": {},
   "outputs": [],
   "source": [
    "def compute_gradient(DistTF):\n",
    "    kernel = np.array([[0, 0, 0], [-2, 0, 2], [0, 0, 0]])\n",
    "    grad_x = cv2.filter2D(DistTF, -1, kernel)\n",
    "    grad_y = cv2.filter2D(DistTF, -1, kernel.T)\n",
    "    return grad_x, grad_y"
   ]
  },
  {
   "cell_type": "code",
   "execution_count": 6,
   "metadata": {},
   "outputs": [],
   "source": [
    "edges = cv2.Canny(img, 125, 150)\n",
    "BinEdge = np.where(edges == 255, 0, img.shape[0] ** 2 + img.shape[1] ** 2)\n",
    "\n",
    "DistTF = l2_distance_transform_2D(BinEdge)"
   ]
  },
  {
   "cell_type": "code",
   "execution_count": 7,
   "metadata": {},
   "outputs": [],
   "source": [
    "# Detect Gradients and Edges\n",
    "Grad_x, Grad_y = compute_gradient(DistTF)\n",
    "Grad_mag = np.sqrt(np.square(Grad_x) + np.square(Grad_y))\n"
   ]
  },
  {
   "cell_type": "code",
   "execution_count": 29,
   "metadata": {},
   "outputs": [],
   "source": [
    "def compute_nearest_pts(landmarks, DistTF, grad_x, grad_y, grad_mag):\n",
    "    y = landmarks[:, 1].astype(int)\n",
    "    x = landmarks[:, 0].astype(int)\n",
    "    nearest_pts = landmarks - np.multiply(np.divide(DistTF[y, x], grad_mag[y, x], where=grad_mag[y, x]!=0).reshape(-1, 1), np.dstack((grad_x[y, x], grad_y[y, x]))[0])\n",
    "    return nearest_pts.astype(int)\n",
    "\n",
    "def compute_affine_tf(source_pts, target_pts):\n",
    "    source_pts_hom = np.hstack((source_pts, np.ones((len(source_pts), 1))))\n",
    "    A = np.array([np.kron(np.eye(2), pt) for pt in source_pts_hom]).reshape(-1, 6)\n",
    "    b = target_pts.reshape(-1, 1)\n",
    "\n",
    "    x = np.linalg.pinv(A.astype(float)) @ b\n",
    "    T = np.eye(3)\n",
    "    T[:2, :] = x.reshape(2, 3)\n",
    "\n",
    "    return T\n",
    "    \n",
    "\n"
   ]
  },
  {
   "cell_type": "code",
   "execution_count": 31,
   "metadata": {},
   "outputs": [],
   "source": [
    "landmarks_ip = np.loadtxt(\"data/hand_landmarks.txt\", tuple, delimiter=',', converters={0: lambda x: int(str(x).strip('b\\'(')), 1: lambda y: int(str(y).strip('b\\')'))})\n",
    "draw_landmarks('Shape Model ICP', img, landmarks_ip)\n",
    "\n",
    "change = np.inf\n",
    "T = np.eye(3)\n",
    "landmarks_old = np.copy(landmarks_ip)\n",
    "landmarks_new = np.zeros_like(landmarks_old)\n",
    "while change > 1:\n",
    "    landmarks_new = compute_nearest_pts(landmarks_old, DistTF, Grad_x, Grad_y, Grad_mag)\n",
    "    T = T @ compute_affine_tf(landmarks_old, landmarks_new)\n",
    "    change = np.sum(np.linalg.norm((landmarks_new - landmarks_old).astype(float), 2, 1))\n",
    "    landmarks_old = landmarks_new\n",
    "\n",
    "landmarks_final = T[:2, :2] @ landmarks_ip.T + T[:2, -1].reshape(-1, 1)\n",
    "draw_landmarks('Shape Model ICP', img, landmarks_final.T)\n",
    "cv2.destroyAllWindows()"
   ]
  }
 ],
 "metadata": {
  "interpreter": {
   "hash": "6bce0c0c10e2dfec06702ce1d3255f68d872b5df06f06ae7e689956746896555"
  },
  "kernelspec": {
   "display_name": "Python 3.8.8 64-bit ('base': conda)",
   "language": "python",
   "name": "python3"
  },
  "language_info": {
   "codemirror_mode": {
    "name": "ipython",
    "version": 3
   },
   "file_extension": ".py",
   "mimetype": "text/x-python",
   "name": "python",
   "nbconvert_exporter": "python",
   "pygments_lexer": "ipython3",
   "version": "3.7.11"
  },
  "orig_nbformat": 4
 },
 "nbformat": 4,
 "nbformat_minor": 2
}
